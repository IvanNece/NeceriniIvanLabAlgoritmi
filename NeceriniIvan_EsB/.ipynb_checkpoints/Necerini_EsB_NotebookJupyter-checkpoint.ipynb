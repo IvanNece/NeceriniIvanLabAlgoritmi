{
 "cells": [
  {
   "cell_type": "markdown",
   "id": "5e4ed44b",
   "metadata": {},
   "source": [
    "# CONFRONTO TRA INSERTION-SORT E COUNTING-SORT\n",
    "> *Autore: Ivan Necerini*\n",
    ">\n",
    "> *Matricola: 7049380*\n",
    ">\n",
    "> *Università degli studi di Firenze*\n",
    ">\n",
    "> *Laboratorio di Algoritmi, Esercizio B*\n",
    ">\n",
    "> *Docente: Simone Marinai*"
   ]
  },
  {
   "cell_type": "markdown",
   "id": "7e01eef8",
   "metadata": {},
   "source": [
    "# Indice\n",
    "- [Introduzione](#Introduzione)\n",
    "---\n",
    "\n",
    "- [Cenni teorici](#Cenni-teorici)\n",
    "  - [Algoritmi di ordinamento](#Algoritmi-di-ordinamento)\n",
    "  - [Insertion sort](#Insertion-sort)\n",
    "      - [Complessità](#Complessità)\n",
    "      - [Correttezza](#Correttezza)\n",
    "      - [Stabilità](#Stabilità)\n",
    "      - [Esempi](#Esempi)\n",
    "  - [Counting sort](#Counting-sort)\n",
    "      - [Complessità:](#Complessità:)\n",
    "      - [Correttezza:](#Correttezza:)\n",
    "      - [Stabilità:](#Stabilità:)\n",
    "---\n",
    "\n",
    "- [Descrizione dei test](#Descrizione-dei-test)\n",
    "    - [Generazione dei dati per l'esecuzione dei test](#Generazione-dei-dati-per-l'esecuzione-dei-test)\n",
    "    - [Esecuzione dei test](#Esecuzione-dei-test)\n",
    "---\n",
    "\n",
    "- [Generazione delle tabelle dei tempi di esecuzione](#Generazione-delle-tabelle-dei-tempi-di-esecuzione)\n",
    "---\n",
    "\n",
    "- [Generazione dei grafici](#Generazione-dei-grafici)\n",
    "---\n",
    "\n",
    "- [Osservazioni finali](#Osservazioni-finali)\n",
    "    - [Valori già ordinati (caso migliore)](#Valori-già-ordinati-(caso-migliore))\n",
    "    - [Valori casuali (caso medio)](#Valori-casuali-(caso-medio))\n",
    "    - [Valori ordinati inversamente (caso peggiore)](#Valori-ordinati-inversamente-(caso-peggiore))\n",
    "    - [Osservazioni su insertion sort](#Osservazioni-su-insertion-sort)\n",
    "    - [Osservazioni su counting sort](#Osservazioni-su-counting-sort)\n",
    "---\n",
    "\n",
    "- [Bibliografia](#Bibliografia)\n"
   ]
  },
  {
   "cell_type": "markdown",
   "id": "c6f1c1af",
   "metadata": {},
   "source": [
    "# Introduzione\n",
    "Il presente notebook Jupyter si focalizza sul confronto delle prestazioni di due algoritmi di ordinamento: Insertion sort e Counting sort. L'obiettivo è comprendere le differenze di efficienza tra questi due approcci e valutare le situazioni in cui ciascun algoritmo si dimostra più vantaggioso.\n",
    "\n",
    "Per condurre i test e ottenere una migliore comprensione dei due algoritmi di ordinamento, sono stati impiegati i seguenti moduli Python:\n",
    "\n",
    "- `numpy` $\\rightarrow$ utilizzato per generare array con valori casuali utilizzando la funzione `numpy.random.randint()`.\n",
    "- `matplotlib` $\\rightarrow$ utilizzato per creare grafici e tabelle al fine di analizzare visivamente le prestazioni dei due algoritmi. Le funzioni `matplotlib.pyplot.plot()` e `matplotlib.pyplot.table()` sono state impiegate a tal scopo.\n",
    "\n",
    "Eseguire il codice sottostante per installarli:"
   ]
  },
  {
   "cell_type": "code",
   "execution_count": 2,
   "id": "77e51847",
   "metadata": {},
   "outputs": [
    {
     "name": "stdout",
     "output_type": "stream",
     "text": [
      "Note: you may need to restart the kernel to use updated packages.\n",
      "Note: you may need to restart the kernel to use updated packages.\n"
     ]
    }
   ],
   "source": [
    "!pip install numpy --user --quiet\n",
    "!pip install matplotlib --user --quiet"
   ]
  },
  {
   "cell_type": "markdown",
   "id": "9d9b5551",
   "metadata": {},
   "source": [
    "# Cenni teorici\n",
    "\n",
    "## Algoritmi di ordinamento\n",
    "L'ordinamento è un problema fondamentale nell'ambito dell'informatica e dell'analisi degli algoritmi. Consiste nel riorganizzare un insieme di elementi in una sequenza ordinata secondo un determinato criterio, che può essere crescente o decrescente. L'obiettivo principale dell'ordinamento è ottenere una rappresentazione ordinata dei dati, facilitando le operazioni di ricerca, confronto e analisi.\n",
    "\n",
    "Il problema dell'ordinamento riveste un'importanza cruciale in molti contesti applicativi, come ad esempio l'elaborazione di database, la gestione di grandi quantità di dati, la risoluzione di problemi di ottimizzazione e molto altro ancora. Un algoritmo di ordinamento efficiente può contribuire significativamente a migliorare le prestazioni di altre operazioni e algoritmi che dipendono dalla corretta disposizione degli elementi.\n",
    "\n",
    "Esistono numerosi algoritmi di ordinamento, ognuno dei quali presenta differenti approcci e strategie per organizzare gli elementi. Questi algoritmi possono differire notevolmente per complessità computazionale, velocità di esecuzione e adattabilità a specifici tipi di dati o situazioni. La scelta dell'algoritmo di ordinamento più appropriato dipende dal contesto e dai requisiti specifici dell'applicazione."
   ]
  },
  {
   "cell_type": "markdown",
   "id": "ced8b38e",
   "metadata": {},
   "source": [
    "## Insertion sort\n",
    "L'Insertion Sort è un semplice algoritmo di ordinamento che si basa sul principio dell'inserimento progressivo degli elementi all'interno di una lista. È un algoritmo intuitivo e può essere applicato efficacemente ad array di dimensioni ridotte o a situazioni in cui l'array è già parzialmente ordinato.\n",
    "\n",
    "Il funzionamento dell'Insertion Sort è basato su un approccio incrementale. L'algoritmo analizza gli elementi dell'array uno per uno e, ad ogni passo, inserisce l'elemento corrente nella sua giusta posizione all'interno della porzione già ordinata dell'array. Inizialmente, si considera il primo elemento dell'array come una sequenza ordinata di un solo elemento. Successivamente, si prende l'elemento successivo e lo si inserisce nella posizione corretta nella sequenza ordinata finora, spostando gli elementi più grandi di quello corrente verso destra.\n",
    "\n",
    "Per comprendere meglio il funzionamento dell'Insertion Sort, si può immaginare di organizzare una mano di carte in ordine crescente. Si inizia con una carta nella mano (rappresentando il primo elemento dell'array), quindi si prende una nuova carta (il secondo elemento dell'array) e la si inserisce nella posizione corretta nella mano, spostando le carte più grandi verso destra. Si ripete questo processo per ogni carta successiva fino a quando tutte le carte sono state inserite nella posizione corretta. \n",
    "\n",
    "In qualsiasi momento, le carte che teniamo nella mano sinistra sono ordinate; originariamente queste carte erano le prime\n",
    "della pila di carte che erano sul tavolo. Questa frase, a livello di codice (come si vede successivamente), si traduce nel fatto che all'i-esima iterazione, i primi i−1 elementi sono già ordinati tra di loro.\n",
    "\n",
    "|<img src=\"https://media.geeksforgeeks.org/wp-content/uploads/insertionsort.png\" alt=\"Esempio di applicazione di insertion sort\" style=\"width: 50%; height: auto;\">|\n",
    "|:--:|\n",
    "| *Figura 1: esempio di applicazione di insertion sort* |\n",
    "Fonte: [Geeksforgeeks](https://media.geeksforgeeks.org/wp-content/uploads/insertionsort.png)\n",
    "\n",
    "Come si vede dall'implementazione che segue, i numeri di input vengono ordinati sul posto: essi sono risistemati all’interno dell’array A, con al più un numero costante di essi memorizzati all’esterno dell’array in qualsiasi istante.\n",
    "\n",
    "\n"
   ]
  },
  {
   "cell_type": "code",
   "execution_count": 4,
   "id": "1b50e3c3",
   "metadata": {},
   "outputs": [],
   "source": [
    "# Implementazione di insertion sort\n",
    "def insertionSort(A: list):\n",
    "    for i in range(1, len(A)):\n",
    "        key = A[i]\n",
    "        j = i - 1\n",
    "        # Muovo gli elementi di A[0...i-1], che sono maggiori della chiave,\n",
    "        #una posizione dopo rispetto a quella dove si trovano\n",
    "        while j >= 0 and A[j]>key:\n",
    "            A[j + 1] = A[j]\n",
    "            j -= 1\n",
    "        A[j + 1] = key"
   ]
  },
  {
   "cell_type": "markdown",
   "id": "9491cf24",
   "metadata": {},
   "source": [
    "### Complessità\n",
    "Caso peggiore (array è ordinato inversamente): l'insertion sort richiede di spostare ogni elemento verso destra di una posizione per ogni elemento precedente. Questo comporta una complessità di tempo quadratica, con una notazione di $O(n^2)$, dove n rappresenta la dimensione dell'array. Quindi, nel caso peggiore, l'Insertion Sort non è efficiente per grandi quantità di dati.\n",
    "\n",
    "Caso medio: Nel caso medio, l'Insertion Sort si comporta meglio rispetto al caso peggiore, ma non raggiunge la complessità del caso migliore. La complessità media dell'Insertion Sort è ancora $O(n^2)$ , ma può essere leggermente migliorata in situazioni in cui l'array è parzialmente ordinato o presenta un certo grado di casualità nella disposizione degli elementi.\n",
    "\n",
    "Caso migliore (array ordinato): l'insertion sort richiede solo una singola scansione dell'array senza dover effettuare alcuno spostamento. In questo caso, l'algoritmo ha una complessità di $\\Omega(n)$, poiché ogni elemento viene confrontato solo con gli elementi precedenti.\n",
    "\n",
    "\n",
    "| Caso peggiore | Caso medio | Caso migliore |\n",
    "|:--:|:--:|:--:|\n",
    "| $O(n^2)$ |$O(n^2)$|$\\Omega(n)$|\n",
    "\n",
    "\n",
    "Nonostante sia una soluzione valida per quantità di dati limitate, le caratteristiche dell'Insertion Sort lo rendono generalmente inefficiente, limitando la sua efficacia su grandi quantità di dati da ordinare.\n",
    "\n",
    "### Correttezza\n",
    "L'insertion sort è corretto nel senso che garantisce che l'array di input sarà ordinato correttamente dopo l'esecuzione dell'algoritmo. L'idea di base dell'insertion sort è quella di mantenere una sottosequenza di elementi ordinati mentre si attraversa l'array, inserendo ciascun elemento nella posizione corretta all'interno della sottosequenza. Questo processo di inserimento ripetuto garantisce che l'intero array sarà alla fine ordinato correttamente.\n",
    "La sua correttezza può essere dimostrata tramite una invariante di ciclo, dato che l'implentazione mostrata prima è in versione iterativa.\n",
    "\n",
    "### Stabilità\n",
    "L'Insertion Sort è un algoritmo di ordinamento stabile, il che significa che preserva l'ordine relativo degli elementi con chiavi uguali. Ciò significa che se due elementi hanno la stessa chiave e sono in posizioni diverse nell'array di input, allora dopo l'applicazione dell'Insertion Sort, questi due elementi manterranno lo stesso ordine relativo nella sequenza ordinata. \n",
    "\n",
    "Ad esempio, se si sta ordinando un elenco di studenti per punteggio e due studenti hanno lo stesso punteggio, l'Insertion Sort garantirà che i due studenti mantengano il loro ordine originale nella sequenza ordinata, preservando così la giustizia nella valutazione.\n",
    "\n",
    "### Esempi\n",
    "|![Esempio animazione insertion sort](https://upload.wikimedia.org/wikipedia/commons/8/82/AnimazioneInsertionSort.gif \"Esempio animazione insertion sort\")|\n",
    "|:--:|\n",
    "| *Figura 3: esempio animazione insertion sort* |\n",
    "Fonte: [Wikipedia](https://upload.wikimedia.org/wikipedia/commons/8/82/AnimazioneInsertionSort.gif)\n",
    "\n",
    "\n",
    "|![Esempio grafico Insertion Sort](https://upload.wikimedia.org/wikipedia/commons/2/25/Insertion_sort_animation.gif \"Esempio animazione insertion sort\")|\n",
    "|:--:|\n",
    "| *Figura 2: esempio grafico Insertion Sort* |\n",
    "Fonte: [Wikipedia](https://upload.wikimedia.org/wikipedia/commons/2/25/Insertion_sort_animation.gif)\n",
    "\n"
   ]
  },
  {
   "cell_type": "markdown",
   "id": "797543af",
   "metadata": {},
   "source": [
    "## Counting sort\n",
    "Il counting sort è un algoritmo di ordinamento non comparativo. A differenza di altri algoritmi di ordinamento, il counting sort sfrutta le informazioni sul range dei valori dell'input per ottenere una complessità lineare.\n",
    "\n",
    "Il funzionamento del counting sort può essere suddiviso in tre fasi:\n",
    "\n",
    "1. Conta le occorrenze: In questa fase, viene creato un array di conteggio con dimensioni pari all'intervallo massimo dei valori presenti nell'input. Si scandisce l'input e si incrementa il contatore corrispondente al valore dell'elemento. Alla fine di questa fase, l'array di conteggio conterrà il numero di occorrenze per ciascun valore presente nell'input.\n",
    "\n",
    "2. Calcola le posizioni: Utilizzando l'array di conteggio, viene calcolato un array ausiliario di posizioni. Questo array indica la posizione in cui ogni valore deve essere posizionato nell'output finale. Viene calcolato sommando i valori precedenti nell'array di conteggio. In altre parole, l'elemento i-esimo nell'array ausiliario di posizioni indica la posizione finale dell'ultimo elemento con valore i nell'output.\n",
    "\n",
    "3. Costruisci l'output: Durante questa fase, si scorre nuovamente l'input. Per ogni elemento, si determina la sua posizione finale utilizzando l'array ausiliario di posizioni e si inserisce l'elemento in quella posizione nell'output. Successivamente, si decrementa il valore corrispondente nell'array di conteggio per tener traccia delle occorrenze rimanenti.\n",
    "\n",
    "Tuttavia, il Counting Sort presenta alcune limitazioni. Richiede un intervallo limitato dei valori di input e può richiedere una quantità significativa di memoria, in particolare quando l'intervallo è ampio. Pertanto, è efficace in situazioni specifiche in cui queste limitazioni non sono un problema, come l'ordinamento di numeri interi non negativi in un range ristretto.\n",
    "\n",
    "E' possibile capire a pieno il funzionamento di questo algoritmo con un'animazione (cliccare per aprire il video):\n",
    "\n",
    "<br>\n",
    "\n",
    "<a href=\"https://www.youtube.com/watch?v=lKMkuZO4wlY\" target=\"_blank\">\n",
    "  <img src=\"https://img.youtube.com/vi/lKMkuZO4wlY/0.jpg\" alt=\"Anteprima del video\" style=\"width: 480px; height: 270px; border-radius: 10px;\">\n",
    "</a>\n",
    "\n",
    "<br>\n",
    "\n",
    "Segue una delle sue possibili implementazioni (supponendo che operi su un insieme di interi non negativi):"
   ]
  },
  {
   "cell_type": "code",
   "execution_count": 14,
   "id": "72284eb0",
   "metadata": {},
   "outputs": [],
   "source": [
    "# Implementazione del counting sort\n",
    "def countingSort(A: list):\n",
    "    # Trova il valore massimo nell'array di input per determinare la dimensione dell'array di conteggio\n",
    "    maxValue = max(A)\n",
    "    \n",
    "    # Crea un array di conteggio con dimensioni pari al valore massimo + 1 (ogni valore possibile)\n",
    "    counts = [0] * (maxValue + 1)   \n",
    "\n",
    "    # Conta il numero di occorrenze di ciascun elemento nell'array\n",
    "    for num in A:\n",
    "        counts[num] += 1\n",
    "\n",
    "    # Conta il numero di elementi minori o uguali a i\n",
    "    # Questo array indica la posizione in cui ogni valore deve essere posizionato nell'output finale\n",
    "    for i in range(1, maxValue + 1):\n",
    "        counts[i] += counts[i - 1]\n",
    "\n",
    "    # Crea l'array ordinato B\n",
    "    B = [0] * len(A)\n",
    "    for num in A:\n",
    "        B[counts[num] - 1] = num\n",
    "        counts[num] -= 1\n",
    "    return B"
   ]
  },
  {
   "cell_type": "markdown",
   "id": "441443e6",
   "metadata": {},
   "source": [
    "### Complessità:\n",
    "La complessità del Counting Sort dipende sia dalla dimensione dell'array da ordinare (n) che dalla quantità di valori che è possibile inserire nell'array da ordinare (k) (valore massimo, dunque valori da 1 a k).\n",
    "\n",
    "Il costo dell'algoritmo è $O(n + k)$.\n",
    "\n",
    "La complessità nel caso peggiore è lineare rispetto alla somma di n e k. Ciò significa che il tempo e lo spazio richiesti per eseguire l'algoritmo crescono in modo lineare all'aumentare di entrambi i valori.\n",
    "\n",
    "La complessità nel caso peggiore si verifica quando i valori nell'array sono distribuiti in modo uniforme su un ampio intervallo. In questo caso, il tempo di esecuzione dipenderà principalmente dalla dimensione dell'array (n) e dal valore massimo (k).\n",
    "\n",
    "È importante notare che se k è relativamente piccolo rispetto a n, l'algoritmo può essere molto efficiente. Tuttavia, se k è comparabile o addirittura maggiore di n, l'algoritmo diventa meno efficiente.\n",
    "\n",
    "### Correttezza:\n",
    "Il Counting Sort è un algoritmo corretto e garantisce che l'array di input sarà ordinato correttamente. Poiché il Counting Sort utilizza informazioni sull'ordine dei valori e non confronta direttamente gli elementi, l'ordinamento è garantito essere corretto. La sua correttezza può essere dimostrata tramite una invariante di ciclo, dato che l'implentazione mostrata prima è in versione iterativa.\n",
    "\n",
    "### Stabilità:\n",
    "Il Counting Sort è un algoritmo di ordinamento stabile. Quando ci sono elementi con la stessa chiave, il Counting Sort assegna loro posizioni nell'array ordinato in base all'ordine in cui compaiono nell'array di input. Ciò significa che due elementi con la stessa chiave manterranno il loro ordine relativo nella sequenza ordinata, garantendo così la stabilità.\n",
    "\n",
    "La stabilità di counting sort è importante. Una delle motivazioni è che counting sort viene spesso utilizzato come subroutine di radix sort."
   ]
  },
  {
   "cell_type": "markdown",
   "id": "801deb6f",
   "metadata": {},
   "source": [
    "# Descrizione dei test\n",
    "\n",
    "Per testare gli algoritmi di ordinamento sarà necessario generare una lista di $n$ valori interi, e misurare il tempo di esecuzione di entrambi gli algoritmi.\n",
    "\n",
    "Per testare al meglio l'Insertion Sort, verranno generati anche i dati relativi al caso migliore (dati già ordinati) e al caso peggiore (dati ordinati inversamente). Questi particolari dati non hanno invece influenza sulle prestazioni del Counting Sort, in quanto la sua complessità rimane la stessa in tutti i casi.\n",
    "\n",
    "Verranno eseguiti i test di ordinamento di $n$ valori, con $n$ che va da 1 a 100.000.\n",
    "\n",
    "Per ognuno di questi test, si eseguiranno più prove, generando diversi input, e verrà calcolato il valore medio di ogni gruppo di prove."
   ]
  },
  {
   "cell_type": "markdown",
   "id": "b3ed3fec",
   "metadata": {},
   "source": [
    "## Generazione dei dati per l'esecuzione dei test\n",
    "Le seguenti funzioni generano un array con $n$ valori al loro interno.\n",
    "\n",
    "La prima funzione, `random_array(n)`, riceve in input un intero $n$ e genera un array con $n$ interi random al suo interno.\n",
    "I dati generati hanno un range che varia tra 0 e `max_value`.\n",
    "\n",
    "Le funzioni `sorted_array(n)` e `reversed_array(n)` invece hanno il compito di generare un array di $n$ elementi, rispettivamente ordinati in modo crescente e decrescente."
   ]
  },
  {
   "cell_type": "code",
   "execution_count": 7,
   "id": "9599d2e5",
   "metadata": {},
   "outputs": [],
   "source": [
    "import numpy as np\n",
    "\n",
    "max_value = 100  # Valore massimo inserito nell'array\n",
    "\n",
    "# Array con numeri random\n",
    "def random_array(n):\n",
    "    return np.random.randint(0, max_value + 1, n).tolist()\n",
    "\n",
    "# Array ordinato (valori crescenti)\n",
    "def sorted_array(n):\n",
    "    return list(range(n)) # From 0 to n-1\n",
    "\n",
    "# Array ordinato inversamente (valori decrescenti)\n",
    "def reversed_array(n):\n",
    "    return list(range(n-1, -1, -1)) # From n-1 to 0"
   ]
  },
  {
   "cell_type": "markdown",
   "id": "001fa073",
   "metadata": {},
   "source": [
    "## Esecuzione dei test\n",
    "Il numero totale d'iterazioni è $n$, parametro definito nello script sottostante.\n",
    "\n",
    "All'$i$-esima iterazione viene generato un array di un array con $i$ elementi, che verranno ordinati utilizzando i due algoritmi da confrontare.\n",
    "    \n",
    "Il tempo di esecuzione di una funzione è misurato utilizzando il modulo `timeit`, tramite la funzione `timeit.timeit()`.\n",
    "Ogni per avere un valore più accurato della misura, l'ordinamento è eseguito un numero di volte pari a `tests_per_iteration`, e poi ne viene calcolata la media.\n",
    "\n",
    "È importante notare che prima si esegue l'algoritmo Counting Sort sull'array, e poi l'Insertion Sort.\n",
    "Questo è dovuto al fatto che il Counting Sort ritorna un nuovo array con gli elementi ordinati, lasciando invariato l'array iniziale, mentre l'Insertion Sort ordina sul posto, modificando l'array originale.\n",
    "Se l'ordine delle chiamate fosse invertito, l'Insertion Sort ordinerebbe l'array generato sul posto e il Counting Sort riceverebbe sempre un array ordinato."
   ]
  },
  {
   "cell_type": "code",
   "execution_count": null,
   "id": "506c9305",
   "metadata": {},
   "outputs": [],
   "source": [
    "import timeit\n",
    "\n",
    "n = 5000\n",
    "step = 200\n",
    "tests_per_iteration = 200\n",
    "\n",
    "insertionsort_average = []\n",
    "countingsort_average = []\n",
    "\n",
    "insertionsort_best = []\n",
    "countingsort_best = []\n",
    "\n",
    "insertionsort_worst = []\n",
    "countingsort_worst = []\n",
    "\n",
    "def measure_time(function, args):\n",
    "    \"\"\" Ritorna il tempo di esecuzione medio (in millisecondi) della funzione data, eseguita `test_per_iteration` volte \"\"\"\n",
    "    return timeit.timeit(stmt=lambda: function(args), number=tests_per_iteration) / tests_per_iteration * 1000\n",
    "\n",
    "# Caso medio\n",
    "for i in range(1, n, step):\n",
    "    arr = random_array(i)\n",
    "    countingsort_average.append(measure_time(counting_sort, arr))   # Test counting sort\n",
    "    insertionsort_average.append(measure_time(insertion_sort, arr)) # Test insertion sort\n",
    "\n",
    "# Elementi gia' ordinati\n",
    "for i in range(1, n, step):\n",
    "    arr = sorted_array(i)\n",
    "    countingsort_best.append(measure_time(counting_sort, arr))   # Test counting sort\n",
    "    insertionsort_best.append(measure_time(insertion_sort, arr)) # Test insertion sort\n",
    "\n",
    "# Elementi ordinati inversamente\n",
    "for i in range(1, n, step):\n",
    "    arr = reversed_array(i)\n",
    "    countingsort_worst.append(measure_time(counting_sort, arr))   # Test counting sort\n",
    "    insertionsort_worst.append(measure_time(insertion_sort, arr)) # Test insertion sort\n",
    "\n",
    "print(\"Completato!\")"
   ]
  },
  {
   "cell_type": "markdown",
   "id": "3a060a94",
   "metadata": {},
   "source": [
    "# Generazione delle tabelle dei tempi di esecuzione\n",
    "Le seguenti tabelle mostrano i tempi di esecuzione dei due algoritmi, nei 3 casi considerati, al crescere della quantità dei valori da ordinare.\n",
    "\n",
    "Le tabelle sono state create utilizzando la libreria `numpy`, tramite il metodo `numpy.pyplot.table`."
   ]
  },
  {
   "cell_type": "code",
   "execution_count": 8,
   "id": "31c45291",
   "metadata": {
    "scrolled": true
   },
   "outputs": [
    {
     "ename": "NameError",
     "evalue": "name 'n' is not defined",
     "output_type": "error",
     "traceback": [
      "\u001b[1;31m---------------------------------------------------------------------------\u001b[0m",
      "\u001b[1;31mNameError\u001b[0m                                 Traceback (most recent call last)",
      "Cell \u001b[1;32mIn[8], line 22\u001b[0m\n\u001b[0;32m     18\u001b[0m             table[cell]\u001b[38;5;241m.\u001b[39mset_facecolor(\u001b[38;5;124m\"\u001b[39m\u001b[38;5;124m#deebff\u001b[39m\u001b[38;5;124m\"\u001b[39m)\n\u001b[0;32m     19\u001b[0m     plt\u001b[38;5;241m.\u001b[39mshow()\n\u001b[1;32m---> 22\u001b[0m draw_table_data([[i \u001b[38;5;28;01mfor\u001b[39;00m i \u001b[38;5;129;01min\u001b[39;00m \u001b[38;5;28mrange\u001b[39m(\u001b[38;5;241m1\u001b[39m, \u001b[43mn\u001b[49m, step)],\n\u001b[0;32m     23\u001b[0m                 [\u001b[38;5;124m\"\u001b[39m\u001b[38;5;132;01m{:.3e}\u001b[39;00m\u001b[38;5;124m\"\u001b[39m\u001b[38;5;241m.\u001b[39mformat(val) \u001b[38;5;28;01mfor\u001b[39;00m val \u001b[38;5;129;01min\u001b[39;00m insertionsort_average],\n\u001b[0;32m     24\u001b[0m                 [\u001b[38;5;124m\"\u001b[39m\u001b[38;5;132;01m{:.3e}\u001b[39;00m\u001b[38;5;124m\"\u001b[39m\u001b[38;5;241m.\u001b[39mformat(val) \u001b[38;5;28;01mfor\u001b[39;00m val \u001b[38;5;129;01min\u001b[39;00m countingsort_average]],\n\u001b[0;32m     25\u001b[0m                (\u001b[38;5;124m\"\u001b[39m\u001b[38;5;124mN° elementi\u001b[39m\u001b[38;5;124m\"\u001b[39m, \u001b[38;5;124m\"\u001b[39m\u001b[38;5;124mInsertion Sort\u001b[39m\u001b[38;5;124m\"\u001b[39m, \u001b[38;5;124m\"\u001b[39m\u001b[38;5;124mCounting Sort\u001b[39m\u001b[38;5;124m\"\u001b[39m),\n\u001b[0;32m     26\u001b[0m                \u001b[38;5;124m\"\u001b[39m\u001b[38;5;124mTempi di esecuzione con valori random, in ms (Fig. 8)\u001b[39m\u001b[38;5;124m\"\u001b[39m)\n\u001b[0;32m     28\u001b[0m draw_table_data([[i \u001b[38;5;28;01mfor\u001b[39;00m i \u001b[38;5;129;01min\u001b[39;00m \u001b[38;5;28mrange\u001b[39m(\u001b[38;5;241m1\u001b[39m, n, step)],\n\u001b[0;32m     29\u001b[0m                 [\u001b[38;5;124m\"\u001b[39m\u001b[38;5;132;01m{:.3e}\u001b[39;00m\u001b[38;5;124m\"\u001b[39m\u001b[38;5;241m.\u001b[39mformat(val) \u001b[38;5;28;01mfor\u001b[39;00m val \u001b[38;5;129;01min\u001b[39;00m insertionsort_best],\n\u001b[0;32m     30\u001b[0m                 [\u001b[38;5;124m\"\u001b[39m\u001b[38;5;132;01m{:.3e}\u001b[39;00m\u001b[38;5;124m\"\u001b[39m\u001b[38;5;241m.\u001b[39mformat(val) \u001b[38;5;28;01mfor\u001b[39;00m val \u001b[38;5;129;01min\u001b[39;00m countingsort_best]],\n\u001b[0;32m     31\u001b[0m                (\u001b[38;5;124m\"\u001b[39m\u001b[38;5;124mN° elementi\u001b[39m\u001b[38;5;124m\"\u001b[39m, \u001b[38;5;124m\"\u001b[39m\u001b[38;5;124mInsertion Sort\u001b[39m\u001b[38;5;124m\"\u001b[39m, \u001b[38;5;124m\"\u001b[39m\u001b[38;5;124mCounting Sort\u001b[39m\u001b[38;5;124m\"\u001b[39m),\n\u001b[0;32m     32\u001b[0m                \u001b[38;5;124m\"\u001b[39m\u001b[38;5;124mTempi di esecuzione con lista ordinata, in ms (Fig. 9)\u001b[39m\u001b[38;5;124m\"\u001b[39m)\n\u001b[0;32m     34\u001b[0m draw_table_data([[i \u001b[38;5;28;01mfor\u001b[39;00m i \u001b[38;5;129;01min\u001b[39;00m \u001b[38;5;28mrange\u001b[39m(\u001b[38;5;241m1\u001b[39m, n, step)],\n\u001b[0;32m     35\u001b[0m                 [\u001b[38;5;124m\"\u001b[39m\u001b[38;5;132;01m{:.3e}\u001b[39;00m\u001b[38;5;124m\"\u001b[39m\u001b[38;5;241m.\u001b[39mformat(val) \u001b[38;5;28;01mfor\u001b[39;00m val \u001b[38;5;129;01min\u001b[39;00m insertionsort_worst],\n\u001b[0;32m     36\u001b[0m                 [\u001b[38;5;124m\"\u001b[39m\u001b[38;5;132;01m{:.3e}\u001b[39;00m\u001b[38;5;124m\"\u001b[39m\u001b[38;5;241m.\u001b[39mformat(val) \u001b[38;5;28;01mfor\u001b[39;00m val \u001b[38;5;129;01min\u001b[39;00m countingsort_worst]],\n\u001b[0;32m     37\u001b[0m                (\u001b[38;5;124m\"\u001b[39m\u001b[38;5;124mN° elementi\u001b[39m\u001b[38;5;124m\"\u001b[39m, \u001b[38;5;124m\"\u001b[39m\u001b[38;5;124mInsertion Sort\u001b[39m\u001b[38;5;124m\"\u001b[39m, \u001b[38;5;124m\"\u001b[39m\u001b[38;5;124mCounting Sort\u001b[39m\u001b[38;5;124m\"\u001b[39m),\n\u001b[0;32m     38\u001b[0m                \u001b[38;5;124m\"\u001b[39m\u001b[38;5;124mTempi di esecuzione con lista ordinata inversamente, in ms (Fig. 10)\u001b[39m\u001b[38;5;124m\"\u001b[39m)\n",
      "\u001b[1;31mNameError\u001b[0m: name 'n' is not defined"
     ]
    }
   ],
   "source": [
    "def draw_table_data(columns: list, headers: tuple, title: str):\n",
    "    fig, ax = plt.subplots(figsize=(5, 9))\n",
    "    plt.title(title)\n",
    "\n",
    "    data = np.stack(tuple(columns), axis=1) # Unisci liste come colonne\n",
    "\n",
    "    # Stile della tabella\n",
    "    ax.axis('off')\n",
    "    table = ax.table(cellText=data, colLabels=headers, loc='center', cellLoc='center')\n",
    "    table.auto_set_column_width(col=list(range(len(columns))))\n",
    "    table.scale(1, 1.5)\n",
    "\n",
    "    for cell in table._cells:\n",
    "        if table[cell].get_text().get_text() in headers:\n",
    "            table[cell].set_facecolor(\"#c1d6ff\")\n",
    "            table[cell].set_text_props(weight='bold')\n",
    "        elif cell[0] % 2 == 0: # Colora righe pari\n",
    "            table[cell].set_facecolor(\"#deebff\")\n",
    "    plt.show()\n",
    "\n",
    "    \n",
    "draw_table_data([[i for i in range(1, n, step)],\n",
    "                [\"{:.3e}\".format(val) for val in insertionsort_average],\n",
    "                [\"{:.3e}\".format(val) for val in countingsort_average]],\n",
    "               (\"N° elementi\", \"Insertion Sort\", \"Counting Sort\"),\n",
    "               \"Tempi di esecuzione con valori random, in ms (Fig. 8)\")\n",
    "\n",
    "draw_table_data([[i for i in range(1, n, step)],\n",
    "                [\"{:.3e}\".format(val) for val in insertionsort_best],\n",
    "                [\"{:.3e}\".format(val) for val in countingsort_best]],\n",
    "               (\"N° elementi\", \"Insertion Sort\", \"Counting Sort\"),\n",
    "               \"Tempi di esecuzione con lista ordinata, in ms (Fig. 9)\")\n",
    "\n",
    "draw_table_data([[i for i in range(1, n, step)],\n",
    "                [\"{:.3e}\".format(val) for val in insertionsort_worst],\n",
    "                [\"{:.3e}\".format(val) for val in countingsort_worst]],\n",
    "               (\"N° elementi\", \"Insertion Sort\", \"Counting Sort\"),\n",
    "               \"Tempi di esecuzione con lista ordinata inversamente, in ms (Fig. 10)\")"
   ]
  },
  {
   "cell_type": "markdown",
   "id": "27aff9ec",
   "metadata": {},
   "source": [
    "# Generazione di grafici\n",
    "La generazione dei grafici è stata effettuata tramite il modulo `matplotlib`.\n",
    "Le tre coppie di grafici mostrati mettono a confronto i tempi di esecuzione dei due algoritmi, dipendentemente dalla lunghezza dell'array.\n",
    "\n",
    "I valori disegnati graficamente fanno riferimento rispettivamente al caso medio (valori random), al caso migliore (valori già ordinati) e al caso peggiore (valori ordinati inversamente)."
   ]
  },
  {
   "cell_type": "code",
   "execution_count": 9,
   "id": "51b0ab81",
   "metadata": {},
   "outputs": [
    {
     "ename": "ModuleNotFoundError",
     "evalue": "No module named 'scipy'",
     "output_type": "error",
     "traceback": [
      "\u001b[1;31m---------------------------------------------------------------------------\u001b[0m",
      "\u001b[1;31mModuleNotFoundError\u001b[0m                       Traceback (most recent call last)",
      "Cell \u001b[1;32mIn[9], line 2\u001b[0m\n\u001b[0;32m      1\u001b[0m \u001b[38;5;28;01mimport\u001b[39;00m \u001b[38;5;21;01mmatplotlib\u001b[39;00m\u001b[38;5;21;01m.\u001b[39;00m\u001b[38;5;21;01mpyplot\u001b[39;00m \u001b[38;5;28;01mas\u001b[39;00m \u001b[38;5;21;01mplt\u001b[39;00m\n\u001b[1;32m----> 2\u001b[0m \u001b[38;5;28;01mfrom\u001b[39;00m \u001b[38;5;21;01mscipy\u001b[39;00m\u001b[38;5;21;01m.\u001b[39;00m\u001b[38;5;21;01minterpolate\u001b[39;00m \u001b[38;5;28;01mimport\u001b[39;00m interp1d\n\u001b[0;32m      4\u001b[0m \u001b[38;5;28;01mdef\u001b[39;00m \u001b[38;5;21mdraw_approximation\u001b[39m(plot, x, y, degree, label):\n\u001b[0;32m      5\u001b[0m     coefficients \u001b[38;5;241m=\u001b[39m np\u001b[38;5;241m.\u001b[39mpolyfit(x, y, degree)\n",
      "\u001b[1;31mModuleNotFoundError\u001b[0m: No module named 'scipy'"
     ]
    }
   ],
   "source": [
    "import matplotlib.pyplot as plt\n",
    "from scipy.interpolate import interp1d\n",
    "\n",
    "def draw_approximation(plot, x, y, degree, label):\n",
    "    coefficients = np.polyfit(x, y, degree)\n",
    "    new_x = np.linspace(1, n, n)\n",
    "    new_y = np.polyval(coefficients, new_x)\n",
    "    plot.plot(new_x, new_y, '--', label=label)\n",
    "\n",
    "def draw_plots(left_data, right_data, plot_title: str = None, smooth = False):\n",
    "    x = np.linspace(1, n, len(left_data))\n",
    "    fig, (left, right) = plt.subplots(1, 2, figsize=(15, 5))\n",
    "    \n",
    "    if smooth:\n",
    "        # Crea la funzione d'interpolazione & genera i valori della curva smooth\n",
    "        x_smooth = np.linspace(1, n, n)\n",
    "        left_data = interp1d(x, left_data, kind='cubic')(x_smooth)\n",
    "        right_data = interp1d(x, right_data, kind='cubic')(x_smooth)\n",
    "        x = x_smooth\n",
    "    \n",
    "    # Insertion Sort plot a sinistra\n",
    "    left.plot(x, left_data)\n",
    "    left.set_title('Insertion Sort')\n",
    "    left.set_xlabel('Dimensione della lista (n)')\n",
    "    left.set_ylabel('Tempo di esecuzione (in ms)')\n",
    "\n",
    "    draw_approximation(left, x, left_data, 2, label='Interpolazione polinomiale') # Aggiungo l'approssimazione polinomiale\n",
    "    left.legend()\n",
    "\n",
    "    # Counting Sort plot a destra\n",
    "    right.plot(x, right_data)\n",
    "    right.set_title('Counting Sort')\n",
    "    right.set_xlabel('Dimensione della lista (n)')\n",
    "    right.set_ylabel('Tempo di esecuzione (in ms)')\n",
    "\n",
    "    draw_approximation(right, x, right_data, 1, label='Retta di regressione') # Aggiungo l'approssimazione polinomiale\n",
    "    right.legend()\n",
    "    if plot_title:\n",
    "        fig.suptitle(plot_title, fontsize=16)"
   ]
  },
  {
   "cell_type": "code",
   "execution_count": 10,
   "id": "275333dd",
   "metadata": {},
   "outputs": [
    {
     "ename": "NameError",
     "evalue": "name 'draw_plots' is not defined",
     "output_type": "error",
     "traceback": [
      "\u001b[1;31m---------------------------------------------------------------------------\u001b[0m",
      "\u001b[1;31mNameError\u001b[0m                                 Traceback (most recent call last)",
      "Cell \u001b[1;32mIn[10], line 1\u001b[0m\n\u001b[1;32m----> 1\u001b[0m \u001b[43mdraw_plots\u001b[49m(insertionsort_average, countingsort_average, \u001b[38;5;124m\"\u001b[39m\u001b[38;5;124mArray con valori random (Fig. 5)\u001b[39m\u001b[38;5;124m\"\u001b[39m, smooth\u001b[38;5;241m=\u001b[39m\u001b[38;5;28;01mTrue\u001b[39;00m)\n",
      "\u001b[1;31mNameError\u001b[0m: name 'draw_plots' is not defined"
     ]
    }
   ],
   "source": [
    "draw_plots(insertionsort_average, countingsort_average, \"Array con valori random (Fig. 5)\", smooth=True)"
   ]
  },
  {
   "cell_type": "code",
   "execution_count": 11,
   "id": "7c5c1cc1",
   "metadata": {},
   "outputs": [
    {
     "ename": "NameError",
     "evalue": "name 'draw_plots' is not defined",
     "output_type": "error",
     "traceback": [
      "\u001b[1;31m---------------------------------------------------------------------------\u001b[0m",
      "\u001b[1;31mNameError\u001b[0m                                 Traceback (most recent call last)",
      "Cell \u001b[1;32mIn[11], line 1\u001b[0m\n\u001b[1;32m----> 1\u001b[0m \u001b[43mdraw_plots\u001b[49m(insertionsort_best, countingsort_best, \u001b[38;5;124m\"\u001b[39m\u001b[38;5;124mArray con valori già ordinati (Fig. 6)\u001b[39m\u001b[38;5;124m\"\u001b[39m, smooth\u001b[38;5;241m=\u001b[39m\u001b[38;5;28;01mTrue\u001b[39;00m)\n",
      "\u001b[1;31mNameError\u001b[0m: name 'draw_plots' is not defined"
     ]
    }
   ],
   "source": [
    "draw_plots(insertionsort_best, countingsort_best, \"Array con valori già ordinati (Fig. 6)\", smooth=True)"
   ]
  },
  {
   "cell_type": "code",
   "execution_count": 12,
   "id": "2416a910",
   "metadata": {},
   "outputs": [
    {
     "ename": "NameError",
     "evalue": "name 'draw_plots' is not defined",
     "output_type": "error",
     "traceback": [
      "\u001b[1;31m---------------------------------------------------------------------------\u001b[0m",
      "\u001b[1;31mNameError\u001b[0m                                 Traceback (most recent call last)",
      "Cell \u001b[1;32mIn[12], line 1\u001b[0m\n\u001b[1;32m----> 1\u001b[0m \u001b[43mdraw_plots\u001b[49m(insertionsort_worst, countingsort_worst, \u001b[38;5;124m\"\u001b[39m\u001b[38;5;124mArray con valori ordinati inversamente (Fig. 7)\u001b[39m\u001b[38;5;124m\"\u001b[39m, smooth\u001b[38;5;241m=\u001b[39m\u001b[38;5;28;01mTrue\u001b[39;00m)\n",
      "\u001b[1;31mNameError\u001b[0m: name 'draw_plots' is not defined"
     ]
    }
   ],
   "source": [
    "draw_plots(insertionsort_worst, countingsort_worst, \"Array con valori ordinati inversamente (Fig. 7)\", smooth=True)"
   ]
  },
  {
   "cell_type": "markdown",
   "id": "bb22aa82",
   "metadata": {},
   "source": [
    "# Osservazioni finali\n",
    "\n",
    "I grafici ottenuti mostrano chiaramente come i due algoritmi si comportano al variare della quantità dei dati da ordinare e dalla loro natura, dal punto di vista della complessità temporale.\n",
    "\n",
    "## Valori già ordinati (caso migliore)\n",
    "\n",
    "Il caso migliore dell'Insertion Sort è quando i dati sono già ordinati.\n",
    "In questo caso, la sua complessità è lineare, come è possibile osservare dal grafico a sinistra in Fig. 6.\n",
    "Questo conferma le ipotesi teoriche fatte all'inizio, in cui è stato affermato che la complessità nel caso migliore è di $\\Omega(n)$. L'interpolazione polinomiale tramite un polinomio di grado 2, rappresentata in arancione in Fig. 6, mostra chiaramente che l'andamento della curva è lineare, e non quadratico.\n",
    "\n",
    "Il Counting Sort invece continua ad avere un andamento lineare, come previsto dai cenni teorici.\n",
    "\n",
    "Inoltre, osservando la tabella in Fig. 9, si vede che i tempi di esecuzione dell'Insertion Sort rispetto a quelli del Counting Sort sono inferiori, nonostante entrambi abbiano un comportamento lineare. Questo è dovuto al fatto che l'Insertion Sort è un algoritmo molto più semplice del Counting Sort. Infatti l'Insertion Sort ha un solo ciclo esterno, mentre il Counting Sort ha più cicli esterni e quindi deve eseguire più operazioni con costo lineare.\n",
    "\n",
    "## Valori casuali (caso medio)\n",
    "\n",
    "Nel caso di ordinamento di una lista composta da valori random, il grafico delle prestazioni dell'Insertion Sort mostra chiaramente un andamento simile a $n^2$ (parabola rappresentata in arancione in Fig. 5), come previsto dallo studio della complessità. Il Counting Sort ha invece un comportamento lineare.\n",
    "\n",
    "Questo ha impatto anche sui tempi di esecuzione, come è possibile vedere nella tabella in Fig. 8 riportata in precedenza. Al crescere dei dati, le prestazioni del Counting Sort sono decisamente migliori rispetto a quelle dell'Insertion Sort.\n",
    "\n",
    "Si nota però che quando i dati da ordinare sono pochi l'Insertion Sort ha performance migliori rispetto al Counting Sort.\n",
    "\n",
    "\n",
    "## Valori ordinati inversamente (caso peggiore)\n",
    "\n",
    "Il caso peggiore dell'Insertion Sort è quando i dati sono ordinati inversamente.\n",
    "La sua complessità in questo caso è quadratica, come confermato dal grafico a sinistra in Fig. 7, in cui si confrontano i tempi di esecuzione dell'Insertion Sort (in blu) e l'interpolazione tramite un polinomio di grado 2 (parabola).\n",
    "\n",
    "Tramite l'asse $y$ nei grafici in Fig. 5 e Fig. 7, e le tabelle in Fig. 8 e Fig. 10, è possibile osservare inoltre che i tempi di esecuzione rispetto al caso medio sono peggiori, a parità della quantità dei valori da ordinare.\n",
    "\n",
    "Il Counting Sort invece continua ad avere complessità lineare, con tempi di esecuzione molto simili al caso migliore.\n",
    "\n",
    "## Osservazioni su insertion sort\n",
    "\n",
    "La complessità teorica dell'Insertion Sort rispetta le misurazioni effettuate nella pratica.\n",
    "Nel caso migliore la sua complessità è effettivamente lineare, mentre nel caso medio e nel caso peggiore la complessità diventa quadratica.\n",
    "\n",
    "## Osservazioni sul counting sort\n",
    "\n",
    "Come previsto, la complessità del Counting Sort rimane lineare a prescindere dai dati che riceve in ingresso.\n",
    "\n",
    "È infine possibile osservare che quando l'array è già ordinato (in modo crescente o decrescente), le prestazioni del Counting Sort sono peggiori rispetto a quando i valori sono random.\n",
    "È possibile osservare questo fenomeno sia tramite l'asse verticale dei grafici (Fig. 5, Fig. 6, Fig. 7) che tramite i valori dei tempi di esecuzione riportati in tabella (Fig. 8, Fig. 9, Fig. 10).\n",
    "\n",
    "Questo è dovuto al fatto che quando i dati sono ordinati, questi vanno da $1$ a $n$, (e viceversa) e non ci sono valori ripetuti, mentre nel medio i valori vanno da $1$ a `max_value`, quindi quando la lunghezza della lista è maggiore di `max_value` sicuramente avremo valori ripetuti, e questo migliora la performance del Counting Sort, in quanto la sua complessità è $O(n+k)$ e dipende anche dal range dei dati all'interno della lista."
   ]
  },
  {
   "cell_type": "markdown",
   "id": "8092fe25",
   "metadata": {},
   "source": [
    "# Bibliografia\n",
    "Fig.1, Fig.2, Fig.3, Fig.4: [Insertion Sort - Wikipedia](https://en.wikipedia.org/wiki/Insertion_sort)"
   ]
  },
  {
   "cell_type": "code",
   "execution_count": null,
   "id": "bd71a2be",
   "metadata": {},
   "outputs": [],
   "source": []
  }
 ],
 "metadata": {
  "kernelspec": {
   "display_name": "Python 3 (ipykernel)",
   "language": "python",
   "name": "python3"
  },
  "language_info": {
   "codemirror_mode": {
    "name": "ipython",
    "version": 3
   },
   "file_extension": ".py",
   "mimetype": "text/x-python",
   "name": "python",
   "nbconvert_exporter": "python",
   "pygments_lexer": "ipython3",
   "version": "3.11.3"
  }
 },
 "nbformat": 4,
 "nbformat_minor": 5
}
