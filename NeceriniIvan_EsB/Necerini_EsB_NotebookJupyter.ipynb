{
 "cells": [
  {
   "cell_type": "markdown",
   "id": "5e4ed44b",
   "metadata": {},
   "source": [
    "# CONFRONTO TRA INSERTION-SORT E COUNTING-SORT\n",
    "> *Autore: Ivan Necerini*\n",
    ">\n",
    "> *Matricola: 7049380*\n",
    ">\n",
    "> *Università degli studi di Firenze*\n",
    ">\n",
    "> *Laboratorio di Algoritmi, Esercizio B*\n",
    ">\n",
    "> *Docente: Simone Marinai*"
   ]
  },
  {
   "cell_type": "markdown",
   "id": "7e01eef8",
   "metadata": {},
   "source": [
    "# Indice\n",
    "- [Introduzione](#Introduzione)\n",
    "---\n",
    "\n",
    "- [Cenni teorici](#Cenni-teorici)\n",
    "  - [Algoritmi di ordinamento](#Algoritmi-di-ordinamento)\n",
    "  - [Insertion sort](#Insertion-sort)\n",
    "      - [Complessità](#Complessità)\n",
    "      - [Correttezza](#Correttezza)\n",
    "      - [Stabilità](#Stabilità)\n",
    "      - [Esempi](#Esempi)\n",
    "  - [Counting sort](#Counting-sort)\n",
    "      - [Complessità:](#Complessità:)\n",
    "      - [Correttezza:](#Correttezza:)\n",
    "      - [Stabilità:](#Stabilità:)\n",
    "---\n",
    "\n",
    "- [Descrizione dei test](#Descrizione-dei-test)\n",
    "    - [Generazione dei dati per l'esecuzione dei test](#Generazione-dei-dati-per-l'esecuzione-dei-test)\n",
    "    - [Esecuzione dei test](#Esecuzione-dei-test)\n",
    "---\n",
    "\n",
    "- [Generazione delle tabelle dei tempi di esecuzione](#Generazione-delle-tabelle-dei-tempi-di-esecuzione)\n",
    "---\n",
    "\n",
    "- [Generazione dei grafici](#Generazione-dei-grafici)\n",
    "---\n",
    "\n",
    "- [Osservazioni finali](#Osservazioni-finali)\n",
    "    - [Valori già ordinati (caso migliore)](#Valori-già-ordinati-(caso-migliore))\n",
    "    - [Valori casuali (caso medio)](#Valori-casuali-(caso-medio))\n",
    "    - [Valori ordinati inversamente (caso peggiore)](#Valori-ordinati-inversamente-(caso-peggiore))\n",
    "    - [Osservazioni su insertion sort](#Osservazioni-su-insertion-sort)\n",
    "    - [Osservazioni su counting sort](#Osservazioni-su-counting-sort)\n",
    "---\n",
    "\n",
    "- [Bibliografia](#Bibliografia)\n"
   ]
  },
  {
   "cell_type": "markdown",
   "id": "c6f1c1af",
   "metadata": {},
   "source": [
    "# Introduzione\n",
    "Lo sco"
   ]
  },
  {
   "cell_type": "code",
   "execution_count": 13,
   "id": "77e51847",
   "metadata": {},
   "outputs": [],
   "source": [
    "!pip install numpy --user --quiet\n",
    "!pip install matplotlib --user --quiet\n",
    "!pip install scipy --user --quiet"
   ]
  },
  {
   "cell_type": "markdown",
   "id": "9d9b5551",
   "metadata": {},
   "source": [
    "# Cenni teorici\n",
    "\n",
    "## Algoritmi di ordinamento\n",
    "Data una sequenza di $n$ numeri $A = \\{a_1, ..., a_n\\}$,\n",
    "il problema dell'ordinamento ha come obiettivo quello di trovare una permutazione $A' = \\{a'_1, ..., a'_n\\}$ di $A$\n",
    "tale che $a'_1 \\le a'_2 \\le ... \\le a'_n$."
   ]
  },
  {
   "cell_type": "markdown",
   "id": "ced8b38e",
   "metadata": {},
   "source": [
    "## Insertion sort\n",
    "L'Insertion Sort è un algoritmo di ordinamento che funziona considerando un elemento dell'array alla volta, spostando gli elementi più grandi alla sua destra e lasciando gli elementi più piccoli alla sua sinistra.\n",
    "\n",
    "Gli elementi vengono ordinati partendo dall'inizio dell'array.\n",
    "\n",
    "Ogni elemento viene spostato a sinistra finché non viene trovato un elemento più piccolo di esso. In questo modo, i valori più grandi dell'elemento considerato saranno alla sua destra, mentre quelli più piccoli alla sua sinistra.\n",
    "\n",
    "|![Prima dell'iterazione](https://upload.wikimedia.org/wikipedia/commons/3/32/Insertionsort-before.png \"(Fig.1) Prima dell'iterazione\")|\n",
    "|:--:|\n",
    "| *(Fig.1) Prima dell'iterazione* |\n",
    "\n",
    "|![Dopo l'iterazione](https://upload.wikimedia.org/wikipedia/commons/d/d9/Insertionsort-after.png \"(Fig.2) Dopo l'iterazione\")|\n",
    "|:--:|\n",
    "| *(Fig.2) Dopo l'iterazione* |\n",
    "\n",
    "È importante inoltre notare che all'i-esima iterazione, i primi $i-1$ elementi sono già ordinati tra loro.\n",
    "\n",
    "Inoltre, l'insertion sort è un algoritmo che **ordina sul posto**, ossia che non necessita di memoria aggiuntiva per l'ordinamento.\n",
    "\n",
    "### Complessità\n",
    "Questo algoritmo di ordinamento ha una complessità di $O(n^2)$ nel caso peggiore (lista ordinata inversamente) e di $\\Omega(n)$ nel caso migliore (lista già ordinata). Nel caso medio il costo è comunque quadratico.\n",
    "\n",
    "| Caso peggiore | Caso medio | Caso migliore |\n",
    "|:--:|:--:|:--:|\n",
    "| $O(n^2)$ |$O(n^2)$|$\\Omega(n)$|\n",
    "\n",
    "Queste caratteristiche fanno sì che l'Insertion Sort non sia un algoritmo particolarmente efficiente, anche se rimane una buona soluzione con piccole quantità di dati da ordinare.\n",
    "\n",
    "### Correttezza\n",
    "L'Insertion Sort è un algoritmo corretto, ossia termina con l'output giusto per ogni possibile istanza in input.\n",
    "\n",
    "Essendo un algoritmo iterativo, la sua correttezza può essere dimostrata tramite una invariante di ciclo.\n",
    "\n",
    "### Stabilità\n",
    "\n",
    "L'Insertion Sort è un algoritmo stabile, ossia chiavi con lo stesso valore appariranno in uscita con lo stesso ordine di quello che avevano in ingresso all'algoritmo.\n",
    "\n",
    "### Esempi\n",
    "|![Esempio grafico Insertion Sort](https://upload.wikimedia.org/wikipedia/commons/0/0f/Insertion-sort-example-300px.gif \"Esempio grafico Insertion Sort\")|\n",
    "|:--:|\n",
    "| *(Fig.3) Esempio grafico Insertion Sort* |\n",
    "\n",
    "|![Animazione Insertion Sort](https://upload.wikimedia.org/wikipedia/commons/4/42/Insertion_sort.gif \"Animazione Insertion Sort\")|\n",
    "|:--:|\n",
    "| *(Fig.4) Animazione dell'Insertion Sort* |"
   ]
  },
  {
   "cell_type": "code",
   "execution_count": 5,
   "id": "1b50e3c3",
   "metadata": {},
   "outputs": [],
   "source": [
    "# Implementazione dell'Insertion Sort\n",
    "def insertion_sort(A: list):\n",
    "    for j in range(1,len(A)):\n",
    "        key = A[j]\n",
    "        i = j - 1\n",
    "        while i >= 0 and A[i] > key:\n",
    "            A[i + 1] = A[i]\n",
    "            i -= 1\n",
    "        A[i + 1] = key"
   ]
  },
  {
   "cell_type": "markdown",
   "id": "797543af",
   "metadata": {},
   "source": [
    "## Counting sort\n",
    "Il Counting Sort è un algoritmo di ordinamento che ordina gli elementi di un array in base alla loro frequenza.\n",
    "\n",
    "Passi dell'algoritmo:\n",
    "1. Contare il numero di occorrenze per ogni possibile valore che può essere contenuto nell'array\n",
    "2. Calcolare quanti numeri sono minori dell'i-esimo valore (aggiornando la lista delle frequenze costruita al punto 1)\n",
    "3. Utilizzare la lista costruita per inserire in un nuovo array i valori nell'ordine corretto\n",
    "\n",
    "Sarà quindi necessario utilizzare della **memoria aggiuntiva** per tenere traccia delle frequenze dei valori e del risultato finale.\n",
    "\n",
    "L'array risultante verrà riempito da sinistra verso destra in maniera incrementale.\n",
    "\n",
    "Per semplicità, si suppone che i dati da ordinare siano interi maggiori o uguali a zero.\n",
    "\n",
    "### Complessità:\n",
    "La complessità del Counting Sort dipende dalla quantità di valori che è possibile inserire nell'array da ordinare.\n",
    "\n",
    "Il costo dell'algoritmo è $O(n + k)$, in cui $n$ è il numero di elementi nella lista da ordinare e $k$ è il numero di valori che è possibile inserire nella lista (ad esempio valori da 1 a $k$).\n",
    "\n",
    "### Correttezza:\n",
    "Anche il Counting Sort, come l'Insertion Sort, è un algoritmo di ordinamento corretto. Essendo un algoritmo iterativo, anche in questo caso è possibile dimostrare la correttezza tramite invarianti di ciclo.\n",
    "\n",
    "### Stabilità:\n",
    "Anche il Counting Sort è un algoritmo stabile, dovuto a come è definito l'ultimo ciclo dell'algoritmo.\n",
    "\n",
    "Questa caratteristica lo rende molto utile in algoritmi di ordinamento più complessi, ad esempio il Radix Sort."
   ]
  },
  {
   "cell_type": "code",
   "execution_count": 14,
   "id": "72284eb0",
   "metadata": {},
   "outputs": [],
   "source": [
    "# Implementazione del Counting Sort\n",
    "def counting_sort(A: list):\n",
    "    max_val = max(A)\n",
    "    counts = [0] * (max_val + 1)    # Crea un array di conteggio con un elemento per ogni valore possibile\n",
    "\n",
    "    # Conta il numero di occorrenze di ciascun elemento nell'array\n",
    "    for num in A:\n",
    "        counts[num] += 1\n",
    "\n",
    "    # Conta il numero di elementi minori o uguali a i\n",
    "    for i in range(1, max_val + 1):\n",
    "        counts[i] += counts[i - 1]\n",
    "\n",
    "    # Crea l'array ordinato\n",
    "    B = [0] * len(A)\n",
    "    for num in A:\n",
    "        B[counts[num] - 1] = num\n",
    "        counts[num] -= 1\n",
    "    return B"
   ]
  },
  {
   "cell_type": "markdown",
   "id": "801deb6f",
   "metadata": {},
   "source": [
    "# Descrizione dei test\n",
    "\n",
    "Per testare gli algoritmi di ordinamento sarà necessario generare una lista di $n$ valori interi, e misurare il tempo di esecuzione di entrambi gli algoritmi.\n",
    "\n",
    "Per testare al meglio l'Insertion Sort, verranno generati anche i dati relativi al caso migliore (dati già ordinati) e al caso peggiore (dati ordinati inversamente). Questi particolari dati non hanno invece influenza sulle prestazioni del Counting Sort, in quanto la sua complessità rimane la stessa in tutti i casi.\n",
    "\n",
    "Verranno eseguiti i test di ordinamento di $n$ valori, con $n$ che va da 1 a 100.000.\n",
    "\n",
    "Per ognuno di questi test, si eseguiranno più prove, generando diversi input, e verrà calcolato il valore medio di ogni gruppo di prove."
   ]
  },
  {
   "cell_type": "markdown",
   "id": "b3ed3fec",
   "metadata": {},
   "source": [
    "## Generazione dei dati per l'esecuzione dei test\n",
    "Le seguenti funzioni generano un array con $n$ valori al loro interno.\n",
    "\n",
    "La prima funzione, `random_array(n)`, riceve in input un intero $n$ e genera un array con $n$ interi random al suo interno.\n",
    "I dati generati hanno un range che varia tra 0 e `max_value`.\n",
    "\n",
    "Le funzioni `sorted_array(n)` e `reversed_array(n)` invece hanno il compito di generare un array di $n$ elementi, rispettivamente ordinati in modo crescente e decrescente."
   ]
  },
  {
   "cell_type": "code",
   "execution_count": 7,
   "id": "9599d2e5",
   "metadata": {},
   "outputs": [],
   "source": [
    "import numpy as np\n",
    "\n",
    "max_value = 100  # Valore massimo inserito nell'array\n",
    "\n",
    "# Array con numeri random\n",
    "def random_array(n):\n",
    "    return np.random.randint(0, max_value + 1, n).tolist()\n",
    "\n",
    "# Array ordinato (valori crescenti)\n",
    "def sorted_array(n):\n",
    "    return list(range(n)) # From 0 to n-1\n",
    "\n",
    "# Array ordinato inversamente (valori decrescenti)\n",
    "def reversed_array(n):\n",
    "    return list(range(n-1, -1, -1)) # From n-1 to 0"
   ]
  },
  {
   "cell_type": "markdown",
   "id": "001fa073",
   "metadata": {},
   "source": [
    "## Esecuzione dei test\n",
    "Il numero totale d'iterazioni è $n$, parametro definito nello script sottostante.\n",
    "\n",
    "All'$i$-esima iterazione viene generato un array di un array con $i$ elementi, che verranno ordinati utilizzando i due algoritmi da confrontare.\n",
    "    \n",
    "Il tempo di esecuzione di una funzione è misurato utilizzando il modulo `timeit`, tramite la funzione `timeit.timeit()`.\n",
    "Ogni per avere un valore più accurato della misura, l'ordinamento è eseguito un numero di volte pari a `tests_per_iteration`, e poi ne viene calcolata la media.\n",
    "\n",
    "È importante notare che prima si esegue l'algoritmo Counting Sort sull'array, e poi l'Insertion Sort.\n",
    "Questo è dovuto al fatto che il Counting Sort ritorna un nuovo array con gli elementi ordinati, lasciando invariato l'array iniziale, mentre l'Insertion Sort ordina sul posto, modificando l'array originale.\n",
    "Se l'ordine delle chiamate fosse invertito, l'Insertion Sort ordinerebbe l'array generato sul posto e il Counting Sort riceverebbe sempre un array ordinato."
   ]
  },
  {
   "cell_type": "code",
   "execution_count": null,
   "id": "506c9305",
   "metadata": {},
   "outputs": [],
   "source": [
    "import timeit\n",
    "\n",
    "n = 5000\n",
    "step = 200\n",
    "tests_per_iteration = 200\n",
    "\n",
    "insertionsort_average = []\n",
    "countingsort_average = []\n",
    "\n",
    "insertionsort_best = []\n",
    "countingsort_best = []\n",
    "\n",
    "insertionsort_worst = []\n",
    "countingsort_worst = []\n",
    "\n",
    "def measure_time(function, args):\n",
    "    \"\"\" Ritorna il tempo di esecuzione medio (in millisecondi) della funzione data, eseguita `test_per_iteration` volte \"\"\"\n",
    "    return timeit.timeit(stmt=lambda: function(args), number=tests_per_iteration) / tests_per_iteration * 1000\n",
    "\n",
    "# Caso medio\n",
    "for i in range(1, n, step):\n",
    "    arr = random_array(i)\n",
    "    countingsort_average.append(measure_time(counting_sort, arr))   # Test counting sort\n",
    "    insertionsort_average.append(measure_time(insertion_sort, arr)) # Test insertion sort\n",
    "\n",
    "# Elementi gia' ordinati\n",
    "for i in range(1, n, step):\n",
    "    arr = sorted_array(i)\n",
    "    countingsort_best.append(measure_time(counting_sort, arr))   # Test counting sort\n",
    "    insertionsort_best.append(measure_time(insertion_sort, arr)) # Test insertion sort\n",
    "\n",
    "# Elementi ordinati inversamente\n",
    "for i in range(1, n, step):\n",
    "    arr = reversed_array(i)\n",
    "    countingsort_worst.append(measure_time(counting_sort, arr))   # Test counting sort\n",
    "    insertionsort_worst.append(measure_time(insertion_sort, arr)) # Test insertion sort\n",
    "\n",
    "print(\"Completato!\")"
   ]
  },
  {
   "cell_type": "markdown",
   "id": "3a060a94",
   "metadata": {},
   "source": [
    "# Generazione delle tabelle dei tempi di esecuzione\n",
    "Le seguenti tabelle mostrano i tempi di esecuzione dei due algoritmi, nei 3 casi considerati, al crescere della quantità dei valori da ordinare.\n",
    "\n",
    "Le tabelle sono state create utilizzando la libreria `numpy`, tramite il metodo `numpy.pyplot.table`."
   ]
  },
  {
   "cell_type": "code",
   "execution_count": 8,
   "id": "31c45291",
   "metadata": {
    "scrolled": true
   },
   "outputs": [
    {
     "ename": "NameError",
     "evalue": "name 'n' is not defined",
     "output_type": "error",
     "traceback": [
      "\u001b[1;31m---------------------------------------------------------------------------\u001b[0m",
      "\u001b[1;31mNameError\u001b[0m                                 Traceback (most recent call last)",
      "Cell \u001b[1;32mIn[8], line 22\u001b[0m\n\u001b[0;32m     18\u001b[0m             table[cell]\u001b[38;5;241m.\u001b[39mset_facecolor(\u001b[38;5;124m\"\u001b[39m\u001b[38;5;124m#deebff\u001b[39m\u001b[38;5;124m\"\u001b[39m)\n\u001b[0;32m     19\u001b[0m     plt\u001b[38;5;241m.\u001b[39mshow()\n\u001b[1;32m---> 22\u001b[0m draw_table_data([[i \u001b[38;5;28;01mfor\u001b[39;00m i \u001b[38;5;129;01min\u001b[39;00m \u001b[38;5;28mrange\u001b[39m(\u001b[38;5;241m1\u001b[39m, \u001b[43mn\u001b[49m, step)],\n\u001b[0;32m     23\u001b[0m                 [\u001b[38;5;124m\"\u001b[39m\u001b[38;5;132;01m{:.3e}\u001b[39;00m\u001b[38;5;124m\"\u001b[39m\u001b[38;5;241m.\u001b[39mformat(val) \u001b[38;5;28;01mfor\u001b[39;00m val \u001b[38;5;129;01min\u001b[39;00m insertionsort_average],\n\u001b[0;32m     24\u001b[0m                 [\u001b[38;5;124m\"\u001b[39m\u001b[38;5;132;01m{:.3e}\u001b[39;00m\u001b[38;5;124m\"\u001b[39m\u001b[38;5;241m.\u001b[39mformat(val) \u001b[38;5;28;01mfor\u001b[39;00m val \u001b[38;5;129;01min\u001b[39;00m countingsort_average]],\n\u001b[0;32m     25\u001b[0m                (\u001b[38;5;124m\"\u001b[39m\u001b[38;5;124mN° elementi\u001b[39m\u001b[38;5;124m\"\u001b[39m, \u001b[38;5;124m\"\u001b[39m\u001b[38;5;124mInsertion Sort\u001b[39m\u001b[38;5;124m\"\u001b[39m, \u001b[38;5;124m\"\u001b[39m\u001b[38;5;124mCounting Sort\u001b[39m\u001b[38;5;124m\"\u001b[39m),\n\u001b[0;32m     26\u001b[0m                \u001b[38;5;124m\"\u001b[39m\u001b[38;5;124mTempi di esecuzione con valori random, in ms (Fig. 8)\u001b[39m\u001b[38;5;124m\"\u001b[39m)\n\u001b[0;32m     28\u001b[0m draw_table_data([[i \u001b[38;5;28;01mfor\u001b[39;00m i \u001b[38;5;129;01min\u001b[39;00m \u001b[38;5;28mrange\u001b[39m(\u001b[38;5;241m1\u001b[39m, n, step)],\n\u001b[0;32m     29\u001b[0m                 [\u001b[38;5;124m\"\u001b[39m\u001b[38;5;132;01m{:.3e}\u001b[39;00m\u001b[38;5;124m\"\u001b[39m\u001b[38;5;241m.\u001b[39mformat(val) \u001b[38;5;28;01mfor\u001b[39;00m val \u001b[38;5;129;01min\u001b[39;00m insertionsort_best],\n\u001b[0;32m     30\u001b[0m                 [\u001b[38;5;124m\"\u001b[39m\u001b[38;5;132;01m{:.3e}\u001b[39;00m\u001b[38;5;124m\"\u001b[39m\u001b[38;5;241m.\u001b[39mformat(val) \u001b[38;5;28;01mfor\u001b[39;00m val \u001b[38;5;129;01min\u001b[39;00m countingsort_best]],\n\u001b[0;32m     31\u001b[0m                (\u001b[38;5;124m\"\u001b[39m\u001b[38;5;124mN° elementi\u001b[39m\u001b[38;5;124m\"\u001b[39m, \u001b[38;5;124m\"\u001b[39m\u001b[38;5;124mInsertion Sort\u001b[39m\u001b[38;5;124m\"\u001b[39m, \u001b[38;5;124m\"\u001b[39m\u001b[38;5;124mCounting Sort\u001b[39m\u001b[38;5;124m\"\u001b[39m),\n\u001b[0;32m     32\u001b[0m                \u001b[38;5;124m\"\u001b[39m\u001b[38;5;124mTempi di esecuzione con lista ordinata, in ms (Fig. 9)\u001b[39m\u001b[38;5;124m\"\u001b[39m)\n\u001b[0;32m     34\u001b[0m draw_table_data([[i \u001b[38;5;28;01mfor\u001b[39;00m i \u001b[38;5;129;01min\u001b[39;00m \u001b[38;5;28mrange\u001b[39m(\u001b[38;5;241m1\u001b[39m, n, step)],\n\u001b[0;32m     35\u001b[0m                 [\u001b[38;5;124m\"\u001b[39m\u001b[38;5;132;01m{:.3e}\u001b[39;00m\u001b[38;5;124m\"\u001b[39m\u001b[38;5;241m.\u001b[39mformat(val) \u001b[38;5;28;01mfor\u001b[39;00m val \u001b[38;5;129;01min\u001b[39;00m insertionsort_worst],\n\u001b[0;32m     36\u001b[0m                 [\u001b[38;5;124m\"\u001b[39m\u001b[38;5;132;01m{:.3e}\u001b[39;00m\u001b[38;5;124m\"\u001b[39m\u001b[38;5;241m.\u001b[39mformat(val) \u001b[38;5;28;01mfor\u001b[39;00m val \u001b[38;5;129;01min\u001b[39;00m countingsort_worst]],\n\u001b[0;32m     37\u001b[0m                (\u001b[38;5;124m\"\u001b[39m\u001b[38;5;124mN° elementi\u001b[39m\u001b[38;5;124m\"\u001b[39m, \u001b[38;5;124m\"\u001b[39m\u001b[38;5;124mInsertion Sort\u001b[39m\u001b[38;5;124m\"\u001b[39m, \u001b[38;5;124m\"\u001b[39m\u001b[38;5;124mCounting Sort\u001b[39m\u001b[38;5;124m\"\u001b[39m),\n\u001b[0;32m     38\u001b[0m                \u001b[38;5;124m\"\u001b[39m\u001b[38;5;124mTempi di esecuzione con lista ordinata inversamente, in ms (Fig. 10)\u001b[39m\u001b[38;5;124m\"\u001b[39m)\n",
      "\u001b[1;31mNameError\u001b[0m: name 'n' is not defined"
     ]
    }
   ],
   "source": [
    "def draw_table_data(columns: list, headers: tuple, title: str):\n",
    "    fig, ax = plt.subplots(figsize=(5, 9))\n",
    "    plt.title(title)\n",
    "\n",
    "    data = np.stack(tuple(columns), axis=1) # Unisci liste come colonne\n",
    "\n",
    "    # Stile della tabella\n",
    "    ax.axis('off')\n",
    "    table = ax.table(cellText=data, colLabels=headers, loc='center', cellLoc='center')\n",
    "    table.auto_set_column_width(col=list(range(len(columns))))\n",
    "    table.scale(1, 1.5)\n",
    "\n",
    "    for cell in table._cells:\n",
    "        if table[cell].get_text().get_text() in headers:\n",
    "            table[cell].set_facecolor(\"#c1d6ff\")\n",
    "            table[cell].set_text_props(weight='bold')\n",
    "        elif cell[0] % 2 == 0: # Colora righe pari\n",
    "            table[cell].set_facecolor(\"#deebff\")\n",
    "    plt.show()\n",
    "\n",
    "    \n",
    "draw_table_data([[i for i in range(1, n, step)],\n",
    "                [\"{:.3e}\".format(val) for val in insertionsort_average],\n",
    "                [\"{:.3e}\".format(val) for val in countingsort_average]],\n",
    "               (\"N° elementi\", \"Insertion Sort\", \"Counting Sort\"),\n",
    "               \"Tempi di esecuzione con valori random, in ms (Fig. 8)\")\n",
    "\n",
    "draw_table_data([[i for i in range(1, n, step)],\n",
    "                [\"{:.3e}\".format(val) for val in insertionsort_best],\n",
    "                [\"{:.3e}\".format(val) for val in countingsort_best]],\n",
    "               (\"N° elementi\", \"Insertion Sort\", \"Counting Sort\"),\n",
    "               \"Tempi di esecuzione con lista ordinata, in ms (Fig. 9)\")\n",
    "\n",
    "draw_table_data([[i for i in range(1, n, step)],\n",
    "                [\"{:.3e}\".format(val) for val in insertionsort_worst],\n",
    "                [\"{:.3e}\".format(val) for val in countingsort_worst]],\n",
    "               (\"N° elementi\", \"Insertion Sort\", \"Counting Sort\"),\n",
    "               \"Tempi di esecuzione con lista ordinata inversamente, in ms (Fig. 10)\")"
   ]
  },
  {
   "cell_type": "markdown",
   "id": "27aff9ec",
   "metadata": {},
   "source": [
    "# Generazione di grafici\n",
    "La generazione dei grafici è stata effettuata tramite il modulo `matplotlib`.\n",
    "Le tre coppie di grafici mostrati mettono a confronto i tempi di esecuzione dei due algoritmi, dipendentemente dalla lunghezza dell'array.\n",
    "\n",
    "I valori disegnati graficamente fanno riferimento rispettivamente al caso medio (valori random), al caso migliore (valori già ordinati) e al caso peggiore (valori ordinati inversamente)."
   ]
  },
  {
   "cell_type": "code",
   "execution_count": 9,
   "id": "51b0ab81",
   "metadata": {},
   "outputs": [
    {
     "ename": "ModuleNotFoundError",
     "evalue": "No module named 'scipy'",
     "output_type": "error",
     "traceback": [
      "\u001b[1;31m---------------------------------------------------------------------------\u001b[0m",
      "\u001b[1;31mModuleNotFoundError\u001b[0m                       Traceback (most recent call last)",
      "Cell \u001b[1;32mIn[9], line 2\u001b[0m\n\u001b[0;32m      1\u001b[0m \u001b[38;5;28;01mimport\u001b[39;00m \u001b[38;5;21;01mmatplotlib\u001b[39;00m\u001b[38;5;21;01m.\u001b[39;00m\u001b[38;5;21;01mpyplot\u001b[39;00m \u001b[38;5;28;01mas\u001b[39;00m \u001b[38;5;21;01mplt\u001b[39;00m\n\u001b[1;32m----> 2\u001b[0m \u001b[38;5;28;01mfrom\u001b[39;00m \u001b[38;5;21;01mscipy\u001b[39;00m\u001b[38;5;21;01m.\u001b[39;00m\u001b[38;5;21;01minterpolate\u001b[39;00m \u001b[38;5;28;01mimport\u001b[39;00m interp1d\n\u001b[0;32m      4\u001b[0m \u001b[38;5;28;01mdef\u001b[39;00m \u001b[38;5;21mdraw_approximation\u001b[39m(plot, x, y, degree, label):\n\u001b[0;32m      5\u001b[0m     coefficients \u001b[38;5;241m=\u001b[39m np\u001b[38;5;241m.\u001b[39mpolyfit(x, y, degree)\n",
      "\u001b[1;31mModuleNotFoundError\u001b[0m: No module named 'scipy'"
     ]
    }
   ],
   "source": [
    "import matplotlib.pyplot as plt\n",
    "from scipy.interpolate import interp1d\n",
    "\n",
    "def draw_approximation(plot, x, y, degree, label):\n",
    "    coefficients = np.polyfit(x, y, degree)\n",
    "    new_x = np.linspace(1, n, n)\n",
    "    new_y = np.polyval(coefficients, new_x)\n",
    "    plot.plot(new_x, new_y, '--', label=label)\n",
    "\n",
    "def draw_plots(left_data, right_data, plot_title: str = None, smooth = False):\n",
    "    x = np.linspace(1, n, len(left_data))\n",
    "    fig, (left, right) = plt.subplots(1, 2, figsize=(15, 5))\n",
    "    \n",
    "    if smooth:\n",
    "        # Crea la funzione d'interpolazione & genera i valori della curva smooth\n",
    "        x_smooth = np.linspace(1, n, n)\n",
    "        left_data = interp1d(x, left_data, kind='cubic')(x_smooth)\n",
    "        right_data = interp1d(x, right_data, kind='cubic')(x_smooth)\n",
    "        x = x_smooth\n",
    "    \n",
    "    # Insertion Sort plot a sinistra\n",
    "    left.plot(x, left_data)\n",
    "    left.set_title('Insertion Sort')\n",
    "    left.set_xlabel('Dimensione della lista (n)')\n",
    "    left.set_ylabel('Tempo di esecuzione (in ms)')\n",
    "\n",
    "    draw_approximation(left, x, left_data, 2, label='Interpolazione polinomiale') # Aggiungo l'approssimazione polinomiale\n",
    "    left.legend()\n",
    "\n",
    "    # Counting Sort plot a destra\n",
    "    right.plot(x, right_data)\n",
    "    right.set_title('Counting Sort')\n",
    "    right.set_xlabel('Dimensione della lista (n)')\n",
    "    right.set_ylabel('Tempo di esecuzione (in ms)')\n",
    "\n",
    "    draw_approximation(right, x, right_data, 1, label='Retta di regressione') # Aggiungo l'approssimazione polinomiale\n",
    "    right.legend()\n",
    "    if plot_title:\n",
    "        fig.suptitle(plot_title, fontsize=16)"
   ]
  },
  {
   "cell_type": "code",
   "execution_count": 10,
   "id": "275333dd",
   "metadata": {},
   "outputs": [
    {
     "ename": "NameError",
     "evalue": "name 'draw_plots' is not defined",
     "output_type": "error",
     "traceback": [
      "\u001b[1;31m---------------------------------------------------------------------------\u001b[0m",
      "\u001b[1;31mNameError\u001b[0m                                 Traceback (most recent call last)",
      "Cell \u001b[1;32mIn[10], line 1\u001b[0m\n\u001b[1;32m----> 1\u001b[0m \u001b[43mdraw_plots\u001b[49m(insertionsort_average, countingsort_average, \u001b[38;5;124m\"\u001b[39m\u001b[38;5;124mArray con valori random (Fig. 5)\u001b[39m\u001b[38;5;124m\"\u001b[39m, smooth\u001b[38;5;241m=\u001b[39m\u001b[38;5;28;01mTrue\u001b[39;00m)\n",
      "\u001b[1;31mNameError\u001b[0m: name 'draw_plots' is not defined"
     ]
    }
   ],
   "source": [
    "draw_plots(insertionsort_average, countingsort_average, \"Array con valori random (Fig. 5)\", smooth=True)"
   ]
  },
  {
   "cell_type": "code",
   "execution_count": 11,
   "id": "7c5c1cc1",
   "metadata": {},
   "outputs": [
    {
     "ename": "NameError",
     "evalue": "name 'draw_plots' is not defined",
     "output_type": "error",
     "traceback": [
      "\u001b[1;31m---------------------------------------------------------------------------\u001b[0m",
      "\u001b[1;31mNameError\u001b[0m                                 Traceback (most recent call last)",
      "Cell \u001b[1;32mIn[11], line 1\u001b[0m\n\u001b[1;32m----> 1\u001b[0m \u001b[43mdraw_plots\u001b[49m(insertionsort_best, countingsort_best, \u001b[38;5;124m\"\u001b[39m\u001b[38;5;124mArray con valori già ordinati (Fig. 6)\u001b[39m\u001b[38;5;124m\"\u001b[39m, smooth\u001b[38;5;241m=\u001b[39m\u001b[38;5;28;01mTrue\u001b[39;00m)\n",
      "\u001b[1;31mNameError\u001b[0m: name 'draw_plots' is not defined"
     ]
    }
   ],
   "source": [
    "draw_plots(insertionsort_best, countingsort_best, \"Array con valori già ordinati (Fig. 6)\", smooth=True)"
   ]
  },
  {
   "cell_type": "code",
   "execution_count": 12,
   "id": "2416a910",
   "metadata": {},
   "outputs": [
    {
     "ename": "NameError",
     "evalue": "name 'draw_plots' is not defined",
     "output_type": "error",
     "traceback": [
      "\u001b[1;31m---------------------------------------------------------------------------\u001b[0m",
      "\u001b[1;31mNameError\u001b[0m                                 Traceback (most recent call last)",
      "Cell \u001b[1;32mIn[12], line 1\u001b[0m\n\u001b[1;32m----> 1\u001b[0m \u001b[43mdraw_plots\u001b[49m(insertionsort_worst, countingsort_worst, \u001b[38;5;124m\"\u001b[39m\u001b[38;5;124mArray con valori ordinati inversamente (Fig. 7)\u001b[39m\u001b[38;5;124m\"\u001b[39m, smooth\u001b[38;5;241m=\u001b[39m\u001b[38;5;28;01mTrue\u001b[39;00m)\n",
      "\u001b[1;31mNameError\u001b[0m: name 'draw_plots' is not defined"
     ]
    }
   ],
   "source": [
    "draw_plots(insertionsort_worst, countingsort_worst, \"Array con valori ordinati inversamente (Fig. 7)\", smooth=True)"
   ]
  },
  {
   "cell_type": "markdown",
   "id": "bb22aa82",
   "metadata": {},
   "source": [
    "# Osservazioni finali\n",
    "\n",
    "I grafici ottenuti mostrano chiaramente come i due algoritmi si comportano al variare della quantità dei dati da ordinare e dalla loro natura, dal punto di vista della complessità temporale.\n",
    "\n",
    "## Valori già ordinati (caso migliore)\n",
    "\n",
    "Il caso migliore dell'Insertion Sort è quando i dati sono già ordinati.\n",
    "In questo caso, la sua complessità è lineare, come è possibile osservare dal grafico a sinistra in Fig. 6.\n",
    "Questo conferma le ipotesi teoriche fatte all'inizio, in cui è stato affermato che la complessità nel caso migliore è di $\\Omega(n)$. L'interpolazione polinomiale tramite un polinomio di grado 2, rappresentata in arancione in Fig. 6, mostra chiaramente che l'andamento della curva è lineare, e non quadratico.\n",
    "\n",
    "Il Counting Sort invece continua ad avere un andamento lineare, come previsto dai cenni teorici.\n",
    "\n",
    "Inoltre, osservando la tabella in Fig. 9, si vede che i tempi di esecuzione dell'Insertion Sort rispetto a quelli del Counting Sort sono inferiori, nonostante entrambi abbiano un comportamento lineare. Questo è dovuto al fatto che l'Insertion Sort è un algoritmo molto più semplice del Counting Sort. Infatti l'Insertion Sort ha un solo ciclo esterno, mentre il Counting Sort ha più cicli esterni e quindi deve eseguire più operazioni con costo lineare.\n",
    "\n",
    "## Valori casuali (caso medio)\n",
    "\n",
    "Nel caso di ordinamento di una lista composta da valori random, il grafico delle prestazioni dell'Insertion Sort mostra chiaramente un andamento simile a $n^2$ (parabola rappresentata in arancione in Fig. 5), come previsto dallo studio della complessità. Il Counting Sort ha invece un comportamento lineare.\n",
    "\n",
    "Questo ha impatto anche sui tempi di esecuzione, come è possibile vedere nella tabella in Fig. 8 riportata in precedenza. Al crescere dei dati, le prestazioni del Counting Sort sono decisamente migliori rispetto a quelle dell'Insertion Sort.\n",
    "\n",
    "Si nota però che quando i dati da ordinare sono pochi l'Insertion Sort ha performance migliori rispetto al Counting Sort.\n",
    "\n",
    "\n",
    "## Valori ordinati inversamente (caso peggiore)\n",
    "\n",
    "Il caso peggiore dell'Insertion Sort è quando i dati sono ordinati inversamente.\n",
    "La sua complessità in questo caso è quadratica, come confermato dal grafico a sinistra in Fig. 7, in cui si confrontano i tempi di esecuzione dell'Insertion Sort (in blu) e l'interpolazione tramite un polinomio di grado 2 (parabola).\n",
    "\n",
    "Tramite l'asse $y$ nei grafici in Fig. 5 e Fig. 7, e le tabelle in Fig. 8 e Fig. 10, è possibile osservare inoltre che i tempi di esecuzione rispetto al caso medio sono peggiori, a parità della quantità dei valori da ordinare.\n",
    "\n",
    "Il Counting Sort invece continua ad avere complessità lineare, con tempi di esecuzione molto simili al caso migliore.\n",
    "\n",
    "## Osservazioni su insertion sort\n",
    "\n",
    "La complessità teorica dell'Insertion Sort rispetta le misurazioni effettuate nella pratica.\n",
    "Nel caso migliore la sua complessità è effettivamente lineare, mentre nel caso medio e nel caso peggiore la complessità diventa quadratica.\n",
    "\n",
    "## Osservazioni sul counting sort\n",
    "\n",
    "Come previsto, la complessità del Counting Sort rimane lineare a prescindere dai dati che riceve in ingresso.\n",
    "\n",
    "È infine possibile osservare che quando l'array è già ordinato (in modo crescente o decrescente), le prestazioni del Counting Sort sono peggiori rispetto a quando i valori sono random.\n",
    "È possibile osservare questo fenomeno sia tramite l'asse verticale dei grafici (Fig. 5, Fig. 6, Fig. 7) che tramite i valori dei tempi di esecuzione riportati in tabella (Fig. 8, Fig. 9, Fig. 10).\n",
    "\n",
    "Questo è dovuto al fatto che quando i dati sono ordinati, questi vanno da $1$ a $n$, (e viceversa) e non ci sono valori ripetuti, mentre nel medio i valori vanno da $1$ a `max_value`, quindi quando la lunghezza della lista è maggiore di `max_value` sicuramente avremo valori ripetuti, e questo migliora la performance del Counting Sort, in quanto la sua complessità è $O(n+k)$ e dipende anche dal range dei dati all'interno della lista."
   ]
  },
  {
   "cell_type": "markdown",
   "id": "8092fe25",
   "metadata": {},
   "source": [
    "# Bibliografia\n",
    "Fig.1, Fig.2, Fig.3, Fig.4: [Insertion Sort - Wikipedia](https://en.wikipedia.org/wiki/Insertion_sort)"
   ]
  },
  {
   "cell_type": "code",
   "execution_count": null,
   "id": "bd71a2be",
   "metadata": {},
   "outputs": [],
   "source": []
  }
 ],
 "metadata": {
  "kernelspec": {
   "display_name": "Python 3 (ipykernel)",
   "language": "python",
   "name": "python3"
  },
  "language_info": {
   "codemirror_mode": {
    "name": "ipython",
    "version": 3
   },
   "file_extension": ".py",
   "mimetype": "text/x-python",
   "name": "python",
   "nbconvert_exporter": "python",
   "pygments_lexer": "ipython3",
   "version": "3.11.3"
  }
 },
 "nbformat": 4,
 "nbformat_minor": 5
}
